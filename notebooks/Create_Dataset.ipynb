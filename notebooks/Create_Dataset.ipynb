{
 "cells": [
  {
   "cell_type": "markdown",
   "metadata": {},
   "source": [
    "### Loading "
   ]
  },
  {
   "cell_type": "code",
   "execution_count": null,
   "metadata": {},
   "outputs": [],
   "source": [
    "import numpy as np\n",
    "import pandas as pd\n",
    "import arviz as az\n",
    "import pymc3 as pm\n",
    "import load_covid_data\n",
    "\n",
    "import datetime\n",
    "import functools\n",
    "import operator"
   ]
  },
  {
   "cell_type": "code",
   "execution_count": null,
   "metadata": {},
   "outputs": [],
   "source": [
    "#Function for flatting\n",
    "def functools_reduce_iconcat(a):\n",
    "    return functools.reduce(operator.iconcat, a, [])\n",
    "\n",
    "\n",
    "# Function to convert string to datetime \n",
    "def convert_str(date_time): \n",
    "    format = '%Y%m%d' # The format \n",
    "    datetime_str = datetime.datetime.strptime(date_time, format).date()\n",
    "    return datetime_str \n",
    "\n",
    "\n",
    "# Function to convert string to datetime without using date\n",
    "def convert_time(date_time): \n",
    "    format = '%Y-%m-%d' # The format \n",
    "    datetime_str = datetime.datetime.strptime(date_time, format)\n",
    "    return datetime_str "
   ]
  },
  {
   "cell_type": "code",
   "execution_count": null,
   "metadata": {},
   "outputs": [],
   "source": [
    "# Countries in dataset of Brauner et al.\n",
    "\n",
    "country_list=['Albania', 'Andorra', 'Austria', 'Belgium',\n",
    "       'Bosnia and Herzegovina', 'Bulgaria', 'Croatia', 'Czech Republic',\n",
    "       'Denmark', 'Estonia', 'Finland', 'France', 'Georgia', 'Germany',\n",
    "       'Greece', 'Hungary', 'Iceland', 'Ireland', 'Israel', 'Italy',\n",
    "       'Latvia', 'Lithuania', 'Malaysia', 'Malta', 'Mexico', 'Morocco',\n",
    "       'Netherlands', 'New Zealand', 'Norway', 'Poland', 'Portugal',\n",
    "       'Romania', 'Serbia', 'Singapore', 'Slovakia', 'Slovenia',\n",
    "       'South Africa', 'Spain', 'Sweden', 'Switzerland', 'United Kingdom']"
   ]
  },
  {
   "cell_type": "code",
   "execution_count": null,
   "metadata": {},
   "outputs": [],
   "source": [
    "#Load dataset for case and death numbers\n",
    "\n",
    "data_recov=load_covid_data.load_individual_timeseries(\"recovered\",drop_states=True)\n",
    "data_cases=load_covid_data.load_data(drop_states=True)\n",
    "\n",
    "data_cases[\"recovered\"]=data_recov.cases"
   ]
  },
  {
   "cell_type": "code",
   "execution_count": null,
   "metadata": {},
   "outputs": [],
   "source": [
    "#get number of current active cases\n",
    "\n",
    "active_cases=[]\n",
    "\n",
    "for country in data_cases.country.unique():\n",
    "    active_cases.append(list(data_cases.loc[data_cases.country==country].confirmed - data_cases.loc[data_cases.country==country].deaths - data_recov.loc[data_recov.country==country].cases))\n",
    "flatten_list=functools_reduce_iconcat(active_cases)\n",
    "data_cases[\"Actives\"]=flatten_list"
   ]
  },
  {
   "cell_type": "code",
   "execution_count": null,
   "metadata": {},
   "outputs": [],
   "source": [
    "#Load NPI Dataset from Oxford\n",
    "\n",
    "url=\"https://raw.githubusercontent.com/OxCGRT/covid-policy-tracker/master/data/OxCGRT_latest.csv\"\n",
    "data_oxf=pd.read_csv(url,low_memory=False)"
   ]
  },
  {
   "cell_type": "markdown",
   "metadata": {},
   "source": [
    "### Preprocessing"
   ]
  },
  {
   "cell_type": "code",
   "execution_count": null,
   "metadata": {},
   "outputs": [],
   "source": [
    "#Matching - which countries are tracked by JHU that are not tracked by Oxford. \n",
    "#Also, which countries are just written differently ? \n",
    "\n",
    "for country in data_cases.country.unique():\n",
    "    if country not in data_oxf.CountryName.unique():\n",
    "        print(country)"
   ]
  },
  {
   "cell_type": "code",
   "execution_count": null,
   "metadata": {},
   "outputs": [],
   "source": [
    "# \"US\" in data_cases,'United States' in data_oxf\n",
    "\n",
    "data_cases.country.replace(to_replace=\"US\",value='United States',inplace=True) "
   ]
  },
  {
   "cell_type": "code",
   "execution_count": null,
   "metadata": {},
   "outputs": [],
   "source": [
    "# Country filtering and timestamp fixing\n",
    "\n",
    "data_oxf = data_oxf[data_oxf.CountryName.isin(country_list)]\n",
    "\n",
    "data_oxf.Date=data_oxf.Date.apply(lambda x: convert_str(str(x)))"
   ]
  },
  {
   "cell_type": "code",
   "execution_count": null,
   "metadata": {},
   "outputs": [],
   "source": [
    "#Join the datasets via inner join - keys : Date and CountryName\n",
    "\n",
    "data_cases['Date'] = data_cases.index\n",
    "\n",
    "data_cases.Date=data_cases.Date.apply(lambda x: str(x.date()))\n",
    "data_oxf.Date=data_oxf.Date.apply(lambda x: str(x))\n",
    "\n",
    "dataset = pd.merge(data_oxf, data_cases,  how='inner', left_on=['Date','CountryName'], right_on = ['Date','country'])"
   ]
  },
  {
   "cell_type": "code",
   "execution_count": null,
   "metadata": {},
   "outputs": [],
   "source": [
    "#just ordering and discarding not needed columns\n",
    "\n",
    "dataset=dataset[['CountryName', 'CountryCode', 'RegionName', 'RegionCode',\n",
    "       'Jurisdiction', 'Date','confirmed', 'critical_estimate', 'days_since_100', 'deaths',\n",
    "       'recovered', 'Actives', 'C1_School closing', 'C1_Flag',\n",
    "       'C2_Workplace closing', 'C2_Flag', 'C3_Cancel public events', 'C3_Flag',\n",
    "       'C4_Restrictions on gatherings', 'C4_Flag', 'C5_Close public transport',\n",
    "       'C5_Flag', 'C6_Stay at home requirements', 'C6_Flag',\n",
    "       'C7_Restrictions on internal movement', 'C7_Flag',\n",
    "       'C8_International travel controls', 'E1_Income support', 'E1_Flag',\n",
    "       'E2_Debt/contract relief', 'E3_Fiscal measures',\n",
    "       'E4_International support', 'H1_Public information campaigns',\n",
    "       'H1_Flag', 'H2_Testing policy', 'H3_Contact tracing',\n",
    "       'H4_Emergency investment in healthcare', 'H5_Investment in vaccines',\n",
    "       'H6_Facial Coverings', 'H6_Flag', 'H7_Vaccination policy', 'H7_Flag',\n",
    "       'M1_Wildcard' , 'StringencyIndex',\n",
    "       'StringencyIndexForDisplay', 'StringencyLegacyIndex',\n",
    "       'StringencyLegacyIndexForDisplay', 'GovernmentResponseIndex',\n",
    "       'GovernmentResponseIndexForDisplay', 'ContainmentHealthIndex',\n",
    "       'ContainmentHealthIndexForDisplay', 'EconomicSupportIndex',\n",
    "       'EconomicSupportIndexForDisplay']]"
   ]
  },
  {
   "cell_type": "code",
   "execution_count": null,
   "metadata": {},
   "outputs": [],
   "source": [
    "#check if there are always the same amount of country values\n",
    "#--> sounds trivial: but was actually a big pain, bc it took me hours at a completely different point to realise the error lies here\n",
    "\n",
    "median_of_tracked_days=np.median(dataset[\"CountryCode\"].value_counts())\n",
    "countries_tracked_on_state_level=[]\n",
    "\n",
    "for country_name in dataset.CountryName.unique():\n",
    "    if len(dataset.loc[dataset.CountryName==country_name])>median_of_tracked_days:\n",
    "        print(country_name)\n",
    "        countries_tracked_on_state_level.append(country_name)\n",
    "        \n",
    "#--> Brazil, UK, and the US were not tracked at country level but at state level.\n",
    "#TODO: Solve missmatch through clever idea\n",
    "\n",
    "dataset_cleaned = dataset[~dataset.CountryName.isin(countries_tracked_on_state_level)]"
   ]
  },
  {
   "cell_type": "code",
   "execution_count": null,
   "metadata": {},
   "outputs": [],
   "source": [
    "#select just the necessary columns - first matching thoughts\n",
    "\n",
    "dataset_cleaned=dataset_cleaned[[\"CountryCode\", # 'Country Code'\n",
    "                      \"Date\",  #'Date'\n",
    "                      'CountryName', #'Region Name'\n",
    "                      \"confirmed\",  #'Confirmed'\n",
    "                      'Actives', #Active\n",
    "                       'deaths', #'Deaths'\n",
    "                      \"H6_Facial Coverings\", #'Mask Wearing'\n",
    "                      \"H2_Testing policy\", #'Symptomatic Testing'\n",
    "                      \"C4_Restrictions on gatherings\", #'Gatherings <1000', 'Gatherings <100', 'Gatherings <10'\n",
    "                      'C2_Workplace closing', #'Some Businesses Suspended', 'Most Businesses Suspended'\n",
    "                      'C1_School closing', #'School Closure', 'University Closure'\n",
    "                      'C6_Stay at home requirements', #'Stay Home Order'\n",
    "                      'H3_Contact tracing', #'Travel Screen/Quarantine' \n",
    "                      'C8_International travel controls', #'Travel Bans' \n",
    "                      'C5_Close public transport', #'Public Transport Limited'\n",
    "                      \"C7_Restrictions on internal movement\", #'Internal Movement Limited'\n",
    "                      'H1_Public information campaigns']] #'Public Information Campaigns'"
   ]
  },
  {
   "cell_type": "code",
   "execution_count": null,
   "metadata": {},
   "outputs": [],
   "source": [
    "#rename dataframe to the column names of the original dataset\n",
    "\n",
    "data_renamed=dataset_cleaned.rename(columns={\"CountryCode\": \"Country Code\",\n",
    "                                              'CountryName':'Region Name',\n",
    "                                              \"confirmed\":'Confirmed',\n",
    "                                              \"Actives\":\"Active\",\n",
    "                                              'deaths':'Deaths',\n",
    "                                              \"H6_Facial Coverings\":'Mask Wearing',\n",
    "                                              \"H2_Testing policy\":'Symptomatic Testing',\n",
    "                                              \"C4_Restrictions on gatherings\":'Gatherings <1000', \n",
    "                                              'C2_Workplace closing':'Some Businesses Suspended', \n",
    "                                              'C1_School closing':'School Closure', \n",
    "                                             'C6_Stay at home requirements':'Stay Home Order',\n",
    "                                              'H3_Contact tracing':'Travel Screen/Quarantine',\n",
    "                                              'C8_International travel controls':'Travel Bans',\n",
    "                                              'C5_Close public transport':'Public Transport Limited',\n",
    "                                              \"C7_Restrictions on internal movement\":'Internal Movement Limited',\n",
    "                                              'H1_Public information campaigns':'Public Information Campaigns'\n",
    "                                             }, errors=\"raise\")\n",
    "\n",
    "#fix type error\n",
    "data_renamed=data_renamed.astype({'Deaths': 'float64', \"Confirmed\":'float64'})"
   ]
  },
  {
   "cell_type": "code",
   "execution_count": null,
   "metadata": {},
   "outputs": [],
   "source": [
    "#Dealing with NaNs\n",
    "\n",
    "#check where Nans occur & and drop contry if more than 10% of columns have NaN values\n",
    "data_nans=data_renamed[data_renamed.isnull().any(axis=1)]\n",
    "data_nans_counts=data_nans[\"Region Name\"].value_counts()\n",
    "\n",
    "countries_with_too_many_nans=data_nans_counts.index[data_nans_counts>0.1*median_of_tracked_days]\n",
    "\n",
    "#drop countries\n",
    "data_renamed = data_renamed[~data_renamed[\"Region Name\"].isin(countries_with_too_many_nans)]\n",
    "\n",
    "#fill remaining NaNs with 0 - maybe replace with foward or backward pass \n",
    "data_renamed.fillna(0.0, inplace=True)\n",
    "\n",
    "#TODO: Estimate the effect. Hypothesis: The countries tracked are a cross-section of countries with good and poor health systems and if only countries with good data quality are used, the confounding effect/error is minimal."
   ]
  },
  {
   "cell_type": "markdown",
   "metadata": {},
   "source": [
    "### Mapping"
   ]
  },
  {
   "cell_type": "code",
   "execution_count": null,
   "metadata": {},
   "outputs": [],
   "source": [
    "#Function to map finer Oxford values to the schema of Brauner et al.\n",
    "def convert(x,class0):\n",
    "    if x in class0:\n",
    "        x=0.0\n",
    "    else:\n",
    "        x=1.0\n",
    "    return x"
   ]
  },
  {
   "cell_type": "code",
   "execution_count": null,
   "metadata": {},
   "outputs": [],
   "source": [
    "data=data_renamed\n",
    "data.Date=data.Date.apply(lambda x: convert_time(x))"
   ]
  },
  {
   "cell_type": "code",
   "execution_count": null,
   "metadata": {},
   "outputs": [],
   "source": [
    "#mapping based on https://github.com/OxCGRT/covid-policy-tracker/blob/master/documentation/codebook.md\n",
    "\n",
    "#Mask wearing\n",
    "data[\"Mask Wearing\"]=data[\"Mask Wearing\"].apply(lambda x: convert(x,[0,1]))\n",
    "\n",
    "#Symptomatic Testing\n",
    "data[\"Symptomatic Testing\"]=data[\"Symptomatic Testing\"].apply(lambda x: convert(x,[0,1])) #drop 1?\n",
    "\n",
    "#Gatherings <10:\n",
    "data[\"Gatherings <10\"]=data[\"Gatherings <1000\"].apply(lambda x: convert(x,[0,1,2,3]))\n",
    "\n",
    "#Gatherings <100:\n",
    "data[\"Gatherings <100\"]=data[\"Gatherings <1000\"].apply(lambda x: convert(x,[0,1,2]))\n",
    "\n",
    "#Gatherings <1000:\n",
    "data[\"Gatherings <1000\"]=data[\"Gatherings <1000\"].apply(lambda x: convert(x,[0,1]))\n",
    "\n",
    "#Most Businesses Suspended\n",
    "data[\"Most Businesses Suspended\"]=data[\"Some Businesses Suspended\"].apply(lambda x: convert(x,[0,1,2]))\n",
    "\n",
    "#Some Businesses Suspended\n",
    "data[\"Some Businesses Suspended\"]=data[\"Some Businesses Suspended\"].apply(lambda x: convert(x,[0,1]))\n",
    "\n",
    "# School Closure\n",
    "data[\"School Closure\"]=data[\"School Closure\"].apply(lambda x: convert(x,[0,1]))\n",
    "data['University Closure']=data[\"School Closure\"] #duplication, since no difference left in current data\n",
    "\n",
    "# Stay Home Order\n",
    "data[\"Stay Home Order\"]=data[\"Stay Home Order\"].apply(lambda x: convert(x,[0,1]))\n",
    "\n",
    "# Travel Screen/Quarantine\n",
    "data[\"Travel Screen/Quarantine\"]=data[\"Travel Screen/Quarantine\"].apply(lambda x: convert(x,[0]))\n",
    "\n",
    "# Travel Bans\n",
    "data[\"Travel Bans\"]=data[\"Travel Bans\"].apply(lambda x: convert(x,[0,1,2]))\n",
    "\n",
    "# Public Transport Limited\n",
    "data[\"Public Transport Limited\"]=data[\"Public Transport Limited\"].apply(lambda x: convert(x,[0,1]))\n",
    "\n",
    "# Internal Movement Limited\n",
    "data[\"Internal Movement Limited\"]=data[\"Internal Movement Limited\"].apply(lambda x: convert(x,[0,1]))\n",
    "\n",
    "# Public Information Campaigns\n",
    "data[\"Public Information Campaigns\"]=data[\"Public Information Campaigns\"].apply(lambda x: convert(x,[0]))"
   ]
  },
  {
   "cell_type": "code",
   "execution_count": null,
   "metadata": {},
   "outputs": [],
   "source": [
    "#simple reordering - not necessary\n",
    "\n",
    "data=data[['Country Code', 'Date', 'Region Name', 'Confirmed', 'Active', 'Deaths',\n",
    "       'Mask Wearing', 'Symptomatic Testing', 'Gatherings <1000',\n",
    "       'Gatherings <100', 'Gatherings <10', 'Some Businesses Suspended',\n",
    "       'Most Businesses Suspended', 'School Closure', 'University Closure',\n",
    "       'Stay Home Order', 'Travel Screen/Quarantine', 'Travel Bans',\n",
    "       'Public Transport Limited', 'Internal Movement Limited',\n",
    "       'Public Information Campaigns']]"
   ]
  },
  {
   "cell_type": "markdown",
   "metadata": {},
   "source": [
    "### Postprocessing & Saving"
   ]
  },
  {
   "cell_type": "code",
   "execution_count": null,
   "metadata": {},
   "outputs": [],
   "source": [
    "#time restriction and small format changes\n",
    "data=data[data.Date>\"2020-08-31\"]\n",
    "\n",
    "data.Date=data.Date.apply(lambda x: str(x.date()))\n",
    "data.reset_index(drop=True, inplace=True)"
   ]
  },
  {
   "cell_type": "code",
   "execution_count": null,
   "metadata": {},
   "outputs": [],
   "source": [
    "#save datasset\n",
    "\n",
    "name=\"final_data_start_sep_delete\"\n",
    "data.to_csv(f\"data/{name}.csv\",index=False)"
   ]
  }
 ],
 "metadata": {
  "kernelspec": {
   "display_name": "Python 3",
   "language": "python",
   "name": "python3"
  },
  "language_info": {
   "codemirror_mode": {
    "name": "ipython",
    "version": 3
   },
   "file_extension": ".py",
   "mimetype": "text/x-python",
   "name": "python",
   "nbconvert_exporter": "python",
   "pygments_lexer": "ipython3",
   "version": "3.7.9"
  }
 },
 "nbformat": 4,
 "nbformat_minor": 4
}
